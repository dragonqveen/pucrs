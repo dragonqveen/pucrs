{
 "cells": [
  {
   "cell_type": "markdown",
   "id": "662ac30f",
   "metadata": {},
   "source": [
    "# [Prof. Dalvan Griebler](mailto:dalvan.griebler@pucrs.br)\n",
    "\n",
    "## Programação Orientada a Dados (POD) - Turma 10 (POD_98H04-06)\n",
    "\n",
    "**Atualizado**: 29/10/2021\n",
    "\n",
    "**Descrição**: Material de apoio as aulas sobre Python para POD\n",
    "\n",
    "**Copyright &copy;**: Este documento está sob a licensa da Criative Commons [BY-NC-ND 4.0](https://creativecommons.org/licenses/by-nc-nd/4.0/legalcode)"
   ]
  },
  {
   "cell_type": "markdown",
   "id": "7b542cfd",
   "metadata": {},
   "source": [
    "# Manipulação Vetorial de Dados com NumPy"
   ]
  },
  {
   "cell_type": "code",
   "execution_count": 1,
   "id": "50f5d8a8",
   "metadata": {},
   "outputs": [],
   "source": [
    "#!conda install numpy\n",
    "#!pip install numpy\n",
    "import numpy as np"
   ]
  },
  {
   "cell_type": "code",
   "execution_count": 2,
   "id": "fd1cd4b3",
   "metadata": {},
   "outputs": [
    {
     "name": "stdout",
     "output_type": "stream",
     "text": [
      "[1 2 3]\n",
      "int64\n",
      "(3,)\n",
      "float64\n",
      "[1. 2. 3.]\n",
      "|S8\n",
      "[b'Dalvan' b'Andressa' b'Adilson']\n",
      "[1 2 3]\n",
      "|S4\n",
      "[b'1.25' b'-10' b'43']\n",
      "[  1.25 -10.    43.  ]\n",
      "float64\n"
     ]
    }
   ],
   "source": [
    "a=np.array([1,2,3])\n",
    "print(a)\n",
    "print(a.dtype)\n",
    "print(a.shape)\n",
    "\n",
    "a=np.array([1,2,3], dtype=np.float64)\n",
    "print(a.dtype)\n",
    "print(a)\n",
    "\n",
    "\n",
    "a = np.array(['Dalvan', \"Andressa\", \"Adilson\"], dtype=np.string_)\n",
    "print(a.dtype)\n",
    "print(a)\n",
    "\n",
    "a=np.array((1,2,3))\n",
    "print(a)\n",
    "\n",
    "a = np.array(['1.25', \"-10\", \"43\"], dtype=np.string_)\n",
    "print(a.dtype)\n",
    "print(a)\n",
    "a2=a.astype(np.float)\n",
    "print(a2)\n",
    "print(a2.dtype)"
   ]
  },
  {
   "cell_type": "code",
   "execution_count": 3,
   "id": "b625657e",
   "metadata": {},
   "outputs": [
    {
     "name": "stdout",
     "output_type": "stream",
     "text": [
      "3\n",
      "1\n",
      "24\n",
      "8\n",
      "<memory at 0x7f0ecc304e80>\n",
      "24\n"
     ]
    }
   ],
   "source": [
    "a=np.array([1,2,3])\n",
    "print(a.size)\n",
    "print(a.ndim)\n",
    "print(a.nbytes)\n",
    "print(a.itemsize)\n",
    "print(a.data)\n",
    "print(a.itemsize*a.size)"
   ]
  },
  {
   "cell_type": "code",
   "execution_count": 4,
   "id": "55b22835",
   "metadata": {},
   "outputs": [
    {
     "name": "stdout",
     "output_type": "stream",
     "text": [
      "6\n",
      "2\n",
      "48\n",
      "(2, 3)\n",
      "[[1 2 3]\n",
      " [1 2 3]]\n",
      "18\n",
      "3\n",
      "144\n",
      "(3, 2, 3)\n",
      "[[[1 2 3]\n",
      "  [1 2 3]]\n",
      "\n",
      " [[1 2 3]\n",
      "  [1 2 3]]\n",
      "\n",
      " [[1 2 3]\n",
      "  [1 2 3]]]\n"
     ]
    }
   ],
   "source": [
    "a2D = np.array([[1,2,3],[1,2,3]])\n",
    "print(a2D.size)\n",
    "print(a2D.ndim)\n",
    "print(a2D.nbytes)\n",
    "print(a2D.shape)\n",
    "print(a2D)\n",
    "\n",
    "a3D = np.array([\n",
    "    [[1,2,3],[1,2,3]],\n",
    "    [[1,2,3],[1,2,3]],\n",
    "    [[1,2,3],[1,2,3]],\n",
    "    ])\n",
    "print(a3D.size)\n",
    "print(a3D.ndim)\n",
    "print(a3D.nbytes)\n",
    "print(a3D.shape)\n",
    "print(a3D)"
   ]
  },
  {
   "cell_type": "markdown",
   "id": "b2ebdce1",
   "metadata": {},
   "source": [
    "## Transformações"
   ]
  },
  {
   "cell_type": "code",
   "execution_count": 5,
   "id": "db784f4d",
   "metadata": {},
   "outputs": [
    {
     "name": "stdout",
     "output_type": "stream",
     "text": [
      "(6,)\n",
      "[6 5 4 3 2 1]\n",
      "[6 5 4 3 2 1]\n"
     ]
    }
   ],
   "source": [
    "a = np.array([1,2,3,4,5,6])\n",
    "print(a.shape)\n",
    "print(a[::-1])\n",
    "print(np.flip(a))"
   ]
  },
  {
   "cell_type": "code",
   "execution_count": 6,
   "id": "fb2023e7",
   "metadata": {},
   "outputs": [
    {
     "name": "stdout",
     "output_type": "stream",
     "text": [
      "[[1 2 3]\n",
      " [4 5 6]]\n",
      "(2, 3)\n",
      "[[6 5 4]\n",
      " [3 2 1]]\n",
      "[[6 5 4]\n",
      " [3 2 1]]\n",
      "[1 2 3 4 5 6]\n",
      "[1 2 3 4 5 6]\n"
     ]
    }
   ],
   "source": [
    "a2d = a.reshape(2,3)\n",
    "print(a2d)\n",
    "print(a2d.shape)\n",
    "\n",
    "print(np.flip(a2d))\n",
    "print(a2d[::-1, ::-1])\n",
    "\n",
    "print(a2d.flatten())\n",
    "\n",
    "print(a2d.ravel())"
   ]
  },
  {
   "cell_type": "markdown",
   "id": "10a2ff6a",
   "metadata": {},
   "source": [
    "## Criação de Arrays"
   ]
  },
  {
   "cell_type": "code",
   "execution_count": 7,
   "id": "21dd51f4",
   "metadata": {},
   "outputs": [
    {
     "name": "stdout",
     "output_type": "stream",
     "text": [
      "[0 1 2]\n",
      "[1 2 3]\n",
      "[1. 2. 3.]\n"
     ]
    }
   ],
   "source": [
    "a=np.arange(3)\n",
    "print(a)\n",
    "\n",
    "a=np.arange(1,4)\n",
    "print(a)\n",
    "\n",
    "a=np.arange(1,4, dtype=np.float64)\n",
    "print(a)"
   ]
  },
  {
   "cell_type": "code",
   "execution_count": 8,
   "id": "94cdcd11",
   "metadata": {},
   "outputs": [
    {
     "name": "stdout",
     "output_type": "stream",
     "text": [
      "[0. 0. 0.]\n",
      "[[0. 0.]\n",
      " [0. 0.]\n",
      " [0. 0.]]\n",
      "[[[0. 0. 0.]\n",
      "  [0. 0. 0.]]\n",
      "\n",
      " [[0. 0. 0.]\n",
      "  [0. 0. 0.]]\n",
      "\n",
      " [[0. 0. 0.]\n",
      "  [0. 0. 0.]]]\n"
     ]
    }
   ],
   "source": [
    "z = np.zeros(3,dtype=np.float64)\n",
    "print(z)\n",
    "z2d = np.zeros((3,2),dtype=np.float64)\n",
    "print(z2d)\n",
    "\n",
    "z3d = np.zeros((3,2,3),dtype=np.float64)\n",
    "print(z3d)"
   ]
  },
  {
   "cell_type": "code",
   "execution_count": 9,
   "id": "cc688ebf",
   "metadata": {},
   "outputs": [
    {
     "name": "stdout",
     "output_type": "stream",
     "text": [
      "[0. 0. 0.]\n",
      "[[0. 0.]\n",
      " [0. 0.]\n",
      " [0. 0.]]\n",
      "[[[0. 0. 0.]\n",
      "  [0. 0. 0.]]\n",
      "\n",
      " [[0. 0. 0.]\n",
      "  [0. 0. 0.]]\n",
      "\n",
      " [[0. 0. 0.]\n",
      "  [0. 0. 0.]]]\n"
     ]
    }
   ],
   "source": [
    "e=np.empty(3)\n",
    "print(e)\n",
    "\n",
    "e2d=np.empty((3,2))\n",
    "print(e2d)\n",
    "\n",
    "\n",
    "e3d=np.empty((3,2,3))\n",
    "print(e3d)"
   ]
  },
  {
   "cell_type": "code",
   "execution_count": 10,
   "id": "807d1e9e",
   "metadata": {},
   "outputs": [
    {
     "name": "stdout",
     "output_type": "stream",
     "text": [
      "[1. 1. 1.]\n",
      "[[1. 1.]\n",
      " [1. 1.]\n",
      " [1. 1.]]\n",
      "[[[1. 1. 1.]\n",
      "  [1. 1. 1.]]\n",
      "\n",
      " [[1. 1. 1.]\n",
      "  [1. 1. 1.]]\n",
      "\n",
      " [[1. 1. 1.]\n",
      "  [1. 1. 1.]]]\n"
     ]
    }
   ],
   "source": [
    "o=np.ones(3)\n",
    "print(o)\n",
    "\n",
    "o2d=np.ones((3,2))\n",
    "print(o2d)\n",
    "\n",
    "o3d=np.ones((3,2,3))\n",
    "print(o3d)"
   ]
  },
  {
   "cell_type": "code",
   "execution_count": 11,
   "id": "144af997",
   "metadata": {},
   "outputs": [
    {
     "name": "stdout",
     "output_type": "stream",
     "text": [
      "[10 10 10]\n",
      "[[10 10]\n",
      " [10 10]\n",
      " [10 10]]\n",
      "[[[10 10 10]\n",
      "  [10 10 10]]\n",
      "\n",
      " [[10 10 10]\n",
      "  [10 10 10]]\n",
      "\n",
      " [[10 10 10]\n",
      "  [10 10 10]]]\n"
     ]
    }
   ],
   "source": [
    "f=np.full(3, 10)\n",
    "print(f)\n",
    "\n",
    "f2d=np.full((3,2), 10)\n",
    "print(f2d)\n",
    "\n",
    "f3d=np.full((3,2,3), 10)\n",
    "print(f3d)"
   ]
  },
  {
   "cell_type": "code",
   "execution_count": 12,
   "id": "92a150f6",
   "metadata": {},
   "outputs": [
    {
     "name": "stdout",
     "output_type": "stream",
     "text": [
      "[ 0.45095009 -1.37785561  1.39466825]\n",
      "[[-0.57333006  0.86635947]\n",
      " [ 0.7256614  -1.13475464]\n",
      " [-0.39406233  0.39960529]]\n",
      "[[[-2.53544822e-04 -1.65112220e+00 -4.09330696e-01]\n",
      "  [ 5.48380653e-01  8.90642358e-01  1.04338298e+00]]\n",
      "\n",
      " [[-5.62367599e-01  1.61266229e+00  6.59743138e-01]\n",
      "  [ 4.45345107e-01 -1.29991624e+00  1.50471090e-01]]\n",
      "\n",
      " [[-6.49841856e-01  1.29716244e-01  2.65500129e-01]\n",
      "  [ 6.85620799e-01 -1.26657827e+00  1.02731205e-02]]]\n"
     ]
    }
   ],
   "source": [
    "r=np.random.randn(3)\n",
    "print(r)\n",
    "\n",
    "r2d=np.random.randn(3,2)\n",
    "print(r2d)\n",
    "\n",
    "r3d=np.random.randn(3,2,3)\n",
    "print(r3d)"
   ]
  },
  {
   "cell_type": "code",
   "execution_count": 13,
   "id": "ac9b9538",
   "metadata": {},
   "outputs": [
    {
     "name": "stdout",
     "output_type": "stream",
     "text": [
      "[10 10 10]\n",
      "[[10 11]\n",
      " [10 11]]\n",
      "[10 10 11 11 10 10 11 11]\n",
      "1\n",
      "[[10 10 11 11]\n",
      " [10 10 11 11]]\n",
      "2\n",
      "[[10 10 11 11]\n",
      " [10 10 11 11]]\n"
     ]
    }
   ],
   "source": [
    "a=np.repeat(10,3)\n",
    "print(a)\n",
    "\n",
    "a=np.array([[10,11],[10,11]])\n",
    "print(a)\n",
    "ra=np.repeat(a,2)\n",
    "print(ra)\n",
    "print(ra.ndim)\n",
    "\n",
    "ra=np.repeat(a,2,axis=1)\n",
    "print(ra)\n",
    "print(ra.ndim)\n",
    "\n",
    "print(np.repeat(a,2).reshape(2,4))"
   ]
  },
  {
   "cell_type": "code",
   "execution_count": 14,
   "id": "6166f9f1",
   "metadata": {},
   "outputs": [
    {
     "name": "stdout",
     "output_type": "stream",
     "text": [
      "[[0 0]\n",
      " [0 0]\n",
      " [0 0]]\n",
      "[[-4620032719248925891  4605978691946719282]\n",
      " [ 4604711396375337579 -4615582737111178234]\n",
      " [-4622601621049574255  4600870268910452627]]\n",
      "[[1 1]\n",
      " [1 1]\n",
      " [1 1]]\n",
      "[[30 30]\n",
      " [30 30]\n",
      " [30 30]]\n"
     ]
    }
   ],
   "source": [
    "zl=np.zeros_like(f2d)\n",
    "print(zl)\n",
    "\n",
    "el=np.empty_like(f2d)\n",
    "print(el)\n",
    "\n",
    "\n",
    "ol=np.ones_like(f2d)\n",
    "print(ol)\n",
    "\n",
    "\n",
    "fl=np.full_like(f2d,30)\n",
    "print(fl)"
   ]
  },
  {
   "cell_type": "markdown",
   "id": "69796bf2",
   "metadata": {},
   "source": [
    "## Arquivos"
   ]
  },
  {
   "cell_type": "code",
   "execution_count": 15,
   "id": "0088e6b7",
   "metadata": {},
   "outputs": [
    {
     "name": "stdout",
     "output_type": "stream",
     "text": [
      "0 1 2 3 4 5 6 7 8 9 \n"
     ]
    }
   ],
   "source": [
    "with open(\"meuarray1D.txt\", \"w\") as arq:\n",
    "    for i in range(10):\n",
    "        arq.write(str(i)+\" \")\n",
    "        \n",
    "!cat meuarray1D.txt\n",
    "!echo"
   ]
  },
  {
   "cell_type": "code",
   "execution_count": 16,
   "id": "bf0e2259",
   "metadata": {},
   "outputs": [
    {
     "name": "stdout",
     "output_type": "stream",
     "text": [
      "[0 1 2 3 4 5 6 7 8 9]\n"
     ]
    }
   ],
   "source": [
    "a=np.loadtxt('meuarray1D.txt', dtype=np.int64)\n",
    "print(a)"
   ]
  },
  {
   "cell_type": "code",
   "execution_count": 17,
   "id": "6f2e7eb4",
   "metadata": {},
   "outputs": [
    {
     "name": "stdout",
     "output_type": "stream",
     "text": [
      "0,1,2,3,4,5,6,7,8,9,10\n"
     ]
    }
   ],
   "source": [
    "with open(\"meuarray1D.txt\", \"w\") as arq:\n",
    "    for i in range(10):\n",
    "        arq.write(str(i)+\",\")\n",
    "    arq.write(\"10\")\n",
    "!cat meuarray1D.txt\n",
    "!echo"
   ]
  },
  {
   "cell_type": "code",
   "execution_count": 18,
   "id": "a7ff06bf",
   "metadata": {},
   "outputs": [
    {
     "name": "stdout",
     "output_type": "stream",
     "text": [
      "[ 0  1  2  3  4  5  6  7  8  9 10]\n"
     ]
    }
   ],
   "source": [
    "a=np.loadtxt('meuarray1D.txt', dtype=np.int64, delimiter=',')\n",
    "print(a)\n",
    "!rm meuarray1D.txt"
   ]
  },
  {
   "cell_type": "code",
   "execution_count": 19,
   "id": "2654bf23",
   "metadata": {},
   "outputs": [
    {
     "name": "stdout",
     "output_type": "stream",
     "text": [
      "0,1,2,3,4,5,6,7,8,9,10\n",
      "0,1,2,3,4,5,6,7,8,9,10\n",
      "\n"
     ]
    }
   ],
   "source": [
    "with open(\"meuarray2D.txt\", \"w\") as arq:\n",
    "    for i in range(10):\n",
    "        arq.write(str(i)+\",\")\n",
    "    arq.write(\"10\\n\")\n",
    "    for i in range(10):\n",
    "        arq.write(str(i)+\",\")\n",
    "    arq.write(\"10\\n\")\n",
    "!cat meuarray2D.txt\n",
    "!echo"
   ]
  },
  {
   "cell_type": "code",
   "execution_count": 20,
   "id": "2e1b3a15",
   "metadata": {},
   "outputs": [
    {
     "name": "stdout",
     "output_type": "stream",
     "text": [
      "[[ 0  1  2  3  4  5  6  7  8  9 10]\n",
      " [ 0  1  2  3  4  5  6  7  8  9 10]]\n",
      "[[ 2  6 10]\n",
      " [ 2  6 10]]\n",
      "[ 0  1  2  3  4  5  6  7  8  9 10]\n"
     ]
    }
   ],
   "source": [
    "a2d=np.loadtxt('meuarray2D.txt', dtype=np.int64, delimiter=',')\n",
    "print(a2d)\n",
    "\n",
    "a2d=np.loadtxt('meuarray2D.txt', dtype=np.int64, delimiter=',',\n",
    "               usecols=(2,6,10))\n",
    "print(a2d)\n",
    "\n",
    "a2d=np.loadtxt('meuarray2D.txt', dtype=np.int64, delimiter=',',\n",
    "               max_rows=1)\n",
    "print(a2d)"
   ]
  },
  {
   "cell_type": "code",
   "execution_count": 21,
   "id": "abfe0b45",
   "metadata": {},
   "outputs": [
    {
     "name": "stdout",
     "output_type": "stream",
     "text": [
      "[[ 0  1  2  3  4  5  6  7  8  9]\n",
      " [10 11 12 13 14 15 16 17 18 19]\n",
      " [20 21 22 23 24 25 26 27 28 29]]\n",
      "0.0000e+00 1.0000e+00 2.0000e+00 3.0000e+00 4.0000e+00 5.0000e+00 6.0000e+00 7.0000e+00 8.0000e+00 9.0000e+00\r\n",
      "1.0000e+01 1.1000e+01 1.2000e+01 1.3000e+01 1.4000e+01 1.5000e+01 1.6000e+01 1.7000e+01 1.8000e+01 1.9000e+01\r\n",
      "2.0000e+01 2.1000e+01 2.2000e+01 2.3000e+01 2.4000e+01 2.5000e+01 2.6000e+01 2.7000e+01 2.8000e+01 2.9000e+01\r\n"
     ]
    }
   ],
   "source": [
    "a=np.arange(30).reshape(3,10)\n",
    "print(a)\n",
    "\n",
    "np.savetxt(\"meuarray2D-gerado.txt\", a, fmt='%1.4e')\n",
    "!cat meuarray2D-gerado.txt"
   ]
  },
  {
   "cell_type": "code",
   "execution_count": 22,
   "id": "6de867fa",
   "metadata": {
    "scrolled": true
   },
   "outputs": [
    {
     "name": "stdout",
     "output_type": "stream",
     "text": [
      "[[ 0  1  2  3  4  5  6  7  8  9]\n",
      " [10 11 12 13 14 15 16 17 18 19]\n",
      " [20 21 22 23 24 25 26 27 28 29]]\n",
      "�NUMPY\u0001\u0000v\u0000{'descr': '<i8', 'fortran_order': False, 'shape': (3, 10), }                                                         \n",
      "\u0000\u0000\u0000\u0000\u0000\u0000\u0000\u0000\u0001\u0000\u0000\u0000\u0000\u0000\u0000\u0000\u0002\u0000\u0000\u0000\u0000\u0000\u0000\u0000\u0003\u0000\u0000\u0000\u0000\u0000\u0000\u0000\u0004\u0000\u0000\u0000\u0000\u0000\u0000\u0000\u0005\u0000\u0000\u0000\u0000\u0000\u0000\u0000\u0006\u0000\u0000\u0000\u0000\u0000\u0000\u0000\u0007\u0000\u0000\u0000\u0000\u0000\u0000\u0000\u0000\u0000\u0000\u0000\u0000\u0000\t\u0000\u0000\u0000\u0000\u0000\u0000\u0000\n",
      "\u0000\u0000\u0000\u0000\u0000\u0000\u0000\u000e\u0000\u0000\u0000\u0000\u0000\u0000\u0000\u000f\u0000\u0000\u0000\u0000\u0000\u0000\u0000\u0010\u0000\u0000\u0000\u0000\u0000\u0000\u0000\u0011\u0000\u0000\u0000\u0000\u0000\u0000\u0000\u0012\u0000\u0000\u0000\u0000\u0000\u0000\u0000\u0013\u0000\u0000\u0000\u0000\u0000\u0000\u0000\u0014\u0000\u0000\u0000\u0000\u0000\u0000\u0000\u0015\u0000\u0000\u0000\u0000\u0000\u0000\u0000\u0016\u0000\u0000\u0000\u0000\u0000\u0000\u0000\u0017\u0000\u0000\u0000\u0000\u0000\u0000\u0000\u0018\u0000\u0000\u0000\u0000\u0000\u0000\u0000\u0019\u0000\u0000\u0000\u0000\u0000\u0000\u0000\u001a\u0000\u0000\u0000\u0000\u0000\u0000\u0000\u001b\u0000\u0000\u0000\u0000\u0000\u0000\u0000\u001c",
      "\u0000\u0000\u0000\u0000\u0000\u0000\u0000\u001d",
      "\u0000\u0000\u0000\u0000\u0000\u0000\u0000[[ 0  1  2  3  4  5  6  7  8  9]\n",
      " [10 11 12 13 14 15 16 17 18 19]\n",
      " [20 21 22 23 24 25 26 27 28 29]]\n"
     ]
    }
   ],
   "source": [
    "a=np.arange(30).reshape(3,10)\n",
    "print(a)\n",
    "\n",
    "np.save(\"meuarray\", a)\n",
    "!cat meuarray.npy\n",
    "\n",
    "a1=np.load('meuarray.npy')\n",
    "print(a1)"
   ]
  },
  {
   "cell_type": "code",
   "execution_count": 23,
   "id": "72b048eb",
   "metadata": {},
   "outputs": [
    {
     "name": "stdout",
     "output_type": "stream",
     "text": [
      "['arr_0', 'arr_1']\n",
      "[[ 0  1  2  3  4  5  6  7  8  9]\n",
      " [10 11 12 13 14 15 16 17 18 19]\n",
      " [20 21 22 23 24 25 26 27 28 29]]\n",
      "[[1 1 1 1 1 1 1 1 1 1]\n",
      " [1 1 1 1 1 1 1 1 1 1]\n",
      " [1 1 1 1 1 1 1 1 1 1]]\n",
      "['modelo', 'b']\n",
      "[[ 0  1  2  3  4  5  6  7  8  9]\n",
      " [10 11 12 13 14 15 16 17 18 19]\n",
      " [20 21 22 23 24 25 26 27 28 29]]\n",
      "[[1 1 1 1 1 1 1 1 1 1]\n",
      " [1 1 1 1 1 1 1 1 1 1]\n",
      " [1 1 1 1 1 1 1 1 1 1]]\n",
      "-rw-r--r-- 1 10087799 pucrs 986 Jun 10 10:02 meus_arrays.npz\n",
      "-rw-r--r-- 1 10087799 pucrs 464 Jun 10 10:02 meus_arrays_compress.npz\n"
     ]
    }
   ],
   "source": [
    "a=np.arange(30).reshape(3,10)\n",
    "b=np.ones_like(a)\n",
    "\n",
    "np.savez('meus_arrays', a, b)\n",
    "# !cat meus_arrays.npz\n",
    "\n",
    "npz=np.load('meus_arrays.npz')\n",
    "print(npz.files)\n",
    "print(npz['arr_0'])\n",
    "print(npz['arr_1'])\n",
    "\n",
    "np.savez_compressed('meus_arrays_compress', modelo=a, b=b)\n",
    "npz=np.load('meus_arrays_compress.npz')\n",
    "print(npz.files)\n",
    "print(npz['modelo'])\n",
    "print(npz['b'])\n",
    "\n",
    "!ls -lh meus_arrays.npz\n",
    "!ls -lh meus_arrays_compress.npz"
   ]
  },
  {
   "cell_type": "markdown",
   "id": "348898d1",
   "metadata": {},
   "source": [
    "## Indexação e Fatiamento"
   ]
  },
  {
   "cell_type": "code",
   "execution_count": 24,
   "id": "0eb6736e",
   "metadata": {},
   "outputs": [
    {
     "name": "stdout",
     "output_type": "stream",
     "text": [
      "[0 1 2 3 4 5 6 7 8 9]\n",
      "5\n",
      "9\n",
      "[ 0  1  2  3  4 11  6  7  8  9]\n"
     ]
    }
   ],
   "source": [
    "a=np.arange(10)\n",
    "print(a)\n",
    "print(a[5])\n",
    "print(a[-1])\n",
    "\n",
    "a[5]=11\n",
    "print(a)"
   ]
  },
  {
   "cell_type": "code",
   "execution_count": 25,
   "id": "d9a6488c",
   "metadata": {},
   "outputs": [
    {
     "name": "stdout",
     "output_type": "stream",
     "text": [
      "[[ 0  1  2  3  4  5  6  7  8  9]\n",
      " [10 11 12 13 14 15 16 17 18 19]\n",
      " [20 21 22 23 24 25 26 27 28 29]]\n",
      "12\n",
      "12\n"
     ]
    }
   ],
   "source": [
    "a2d=np.arange(30).reshape(3,10)\n",
    "print(a2d)\n",
    "print(a2d[1][2])\n",
    "print(a2d[1,2])"
   ]
  },
  {
   "cell_type": "code",
   "execution_count": 26,
   "id": "d720bea2",
   "metadata": {},
   "outputs": [
    {
     "name": "stdout",
     "output_type": "stream",
     "text": [
      "[0 1 2 3 4 5 6 7 8 9]\n",
      "[0 1 2 3 4 5 6 7 8 9]\n",
      "[2 3 4 5 6 7 8 9]\n",
      "[0 1 2 3]\n",
      "[2 3 4 5]\n",
      "[0 1 2 3 4 5 6 7 8]\n",
      "[6 7 8]\n",
      "[ 0  1 20 30  4  5  6  7  8  9]\n"
     ]
    }
   ],
   "source": [
    "a=np.arange(10)\n",
    "\n",
    "print(a)\n",
    "print(a[:])\n",
    "print(a[2:])\n",
    "print(a[:4])\n",
    "print(a[2:6])\n",
    "print(a[:-1])\n",
    "print(a[-4:-1])\n",
    "\n",
    "a[2:4]= [20,30]\n",
    "print(a)"
   ]
  },
  {
   "cell_type": "code",
   "execution_count": 27,
   "id": "d58f89a1",
   "metadata": {},
   "outputs": [
    {
     "name": "stdout",
     "output_type": "stream",
     "text": [
      "[[ 0  1  2  3  4  5  6  7  8  9]\n",
      " [10 11 12 13 14 15 16 17 18 19]\n",
      " [20 21 22 23 24 25 26 27 28 29]]\n",
      "[0 1 2 3 4 5 6 7 8 9]\n",
      "[ 0 10 20]\n",
      "[20 21 22 23 24 25 26 27 28 29]\n",
      "[[ 1  2]\n",
      " [11 12]\n",
      " [21 22]]\n",
      "[[ 0  1  2  3  4  5  6  7  8  9]\n",
      " [20 21 22 23 24 25 26 27 28 29]]\n",
      "[[ 0  1  2  3  4  5  6  7  8  9]\n",
      " [10 11 12 13 14 15 16 17 18 19]]\n",
      "[[10 11 12]]\n",
      "[[14 15 16 17]\n",
      " [24 25 26 27]]\n"
     ]
    }
   ],
   "source": [
    "a2d=np.arange(30).reshape(3,10)\n",
    "print(a2d)\n",
    "print(a2d[0, :])\n",
    "print(a2d[:, 0])\n",
    "print(a2d[-1, :])\n",
    "print(a2d[:, 1:3])\n",
    "\n",
    "print(a2d[::2, : ])\n",
    "print(a2d[0:2, : ])\n",
    "\n",
    "print(a2d[1:2, :3])\n",
    "print(a2d[1:3, 4:8])"
   ]
  },
  {
   "cell_type": "markdown",
   "id": "7583528e",
   "metadata": {},
   "source": [
    "## Manipulando os eixos/dimensões"
   ]
  },
  {
   "cell_type": "code",
   "execution_count": 28,
   "id": "1d7b62dc",
   "metadata": {},
   "outputs": [
    {
     "name": "stdout",
     "output_type": "stream",
     "text": [
      "[1 2]\n",
      "[3 4]\n",
      "[[1]\n",
      " [2]]\n",
      "(2, 1)\n",
      "[[1 2]]\n",
      "(1, 2)\n"
     ]
    }
   ],
   "source": [
    "lin=np.arange(1,3)\n",
    "col=np.arange(3,5)\n",
    "print(lin)\n",
    "print(col)\n",
    "\n",
    "a=lin[:, np.newaxis]\n",
    "print(a)\n",
    "print(a.shape)\n",
    "\n",
    "a=lin[np.newaxis,:]\n",
    "print(a)\n",
    "print(a.shape)\n"
   ]
  },
  {
   "cell_type": "code",
   "execution_count": 29,
   "id": "f14970aa",
   "metadata": {},
   "outputs": [
    {
     "name": "stdout",
     "output_type": "stream",
     "text": [
      "[[4 5]\n",
      " [5 6]]\n",
      "(2, 2)\n"
     ]
    }
   ],
   "source": [
    "a=lin[:, np.newaxis]+col\n",
    "# [[1]\n",
    "# [2]] + [3 4]\n",
    "print(a)\n",
    "print(a.shape)"
   ]
  },
  {
   "cell_type": "code",
   "execution_count": 30,
   "id": "39857d90",
   "metadata": {},
   "outputs": [
    {
     "name": "stdout",
     "output_type": "stream",
     "text": [
      "[1 2 3 4 5]\n",
      "[[1 2 3 4 5]]\n",
      "(1, 5)\n",
      "[[1]\n",
      " [2]\n",
      " [3]\n",
      " [4]\n",
      " [5]]\n",
      "(5, 1)\n",
      "[[[1 2 3 4 5]]]\n",
      "(1, 1, 5)\n"
     ]
    }
   ],
   "source": [
    "a=np.arange(1,6)\n",
    "print(a)\n",
    "b=np.expand_dims(a,axis=0)\n",
    "print(b)\n",
    "print(b.shape)\n",
    "\n",
    "b=np.expand_dims(a,axis=1)\n",
    "print(b)\n",
    "print(b.shape)\n",
    "\n",
    "b=np.expand_dims(a,axis=[0,1])\n",
    "print(b)\n",
    "print(b.shape)"
   ]
  },
  {
   "cell_type": "code",
   "execution_count": 31,
   "id": "925ce8b1",
   "metadata": {},
   "outputs": [
    {
     "name": "stdout",
     "output_type": "stream",
     "text": [
      "[[ 0  1  2  3  4]\n",
      " [ 5  6  7  8  9]\n",
      " [10 11 12 13 14]]\n",
      "[[ 0  5 10]\n",
      " [ 1  6 11]\n",
      " [ 2  7 12]\n",
      " [ 3  8 13]\n",
      " [ 4  9 14]]\n"
     ]
    }
   ],
   "source": [
    "a2d = np.arange(15).reshape((3,5))\n",
    "print(a2d)\n",
    "print(a2d.T)"
   ]
  },
  {
   "cell_type": "code",
   "execution_count": 32,
   "id": "d88cac0a",
   "metadata": {},
   "outputs": [
    {
     "name": "stdout",
     "output_type": "stream",
     "text": [
      "[[ 0  5 10]\n",
      " [ 1  6 11]\n",
      " [ 2  7 12]\n",
      " [ 3  8 13]\n",
      " [ 4  9 14]]\n"
     ]
    }
   ],
   "source": [
    "print(a2d.swapaxes(0,1))"
   ]
  },
  {
   "cell_type": "code",
   "execution_count": 33,
   "id": "3a31730c",
   "metadata": {},
   "outputs": [
    {
     "name": "stdout",
     "output_type": "stream",
     "text": [
      "[[ 0  5 10]\n",
      " [ 1  6 11]\n",
      " [ 2  7 12]\n",
      " [ 3  8 13]\n",
      " [ 4  9 14]]\n"
     ]
    }
   ],
   "source": [
    "print(a2d.transpose(1,0))"
   ]
  },
  {
   "cell_type": "code",
   "execution_count": 34,
   "id": "3d0eb39b",
   "metadata": {},
   "outputs": [
    {
     "name": "stdout",
     "output_type": "stream",
     "text": [
      "[[14 14]\n",
      " [14 14]]\n"
     ]
    }
   ],
   "source": [
    "print(np.dot(a2D,a2D.T))"
   ]
  },
  {
   "cell_type": "markdown",
   "id": "338b9b0b",
   "metadata": {},
   "source": [
    "## Iterando pelos Elementos"
   ]
  },
  {
   "cell_type": "code",
   "execution_count": 35,
   "id": "5507237b",
   "metadata": {
    "scrolled": true
   },
   "outputs": [
    {
     "name": "stdout",
     "output_type": "stream",
     "text": [
      "[[0 1 2]\n",
      " [3 4 5]]\n",
      "0 1 2 3 4 5 "
     ]
    }
   ],
   "source": [
    "a = np.arange(6).reshape(2,3)\n",
    "print(a)\n",
    "for l in a:\n",
    "    for c in l:\n",
    "        print(c, end=' ')"
   ]
  },
  {
   "cell_type": "code",
   "execution_count": 36,
   "id": "353e22cf",
   "metadata": {},
   "outputs": [
    {
     "name": "stdout",
     "output_type": "stream",
     "text": [
      "0 1 2 3 4 5 "
     ]
    }
   ],
   "source": [
    "for i in np.nditer(a):\n",
    "    print(i, end=' ')"
   ]
  },
  {
   "cell_type": "code",
   "execution_count": 37,
   "id": "af178868",
   "metadata": {},
   "outputs": [
    {
     "name": "stdout",
     "output_type": "stream",
     "text": [
      "0 1 2 3 4 5 <numpy.flatiter object at 0x556770ec0910>\n"
     ]
    }
   ],
   "source": [
    "for i in a.flat:\n",
    "    print(i, end=' ')\n",
    "    \n",
    "print(a.flat)"
   ]
  },
  {
   "cell_type": "markdown",
   "id": "12aea470",
   "metadata": {},
   "source": [
    "## Operações Aritméticas, Booleanas e Binárias"
   ]
  },
  {
   "cell_type": "code",
   "execution_count": 38,
   "id": "eec62b14",
   "metadata": {},
   "outputs": [
    {
     "name": "stdout",
     "output_type": "stream",
     "text": [
      "[[2. 2. 2.]\n",
      " [2. 2. 2.]\n",
      " [2. 2. 2.]]\n",
      "[[1. 1. 1.]\n",
      " [1. 1. 1.]\n",
      " [1. 1. 1.]]\n",
      "[[2. 2. 2.]\n",
      " [2. 2. 2.]\n",
      " [2. 2. 2.]]\n",
      "[[3. 3. 3.]\n",
      " [3. 3. 3.]\n",
      " [3. 3. 3.]]\n",
      "[[1. 1. 1.]\n",
      " [1. 1. 1.]\n",
      " [1. 1. 1.]]\n",
      "[[2. 2. 2.]\n",
      " [2. 2. 2.]\n",
      " [2. 2. 2.]]\n",
      "[[2. 2. 2.]\n",
      " [2. 2. 2.]\n",
      " [2. 2. 2.]]\n"
     ]
    }
   ],
   "source": [
    "a = np.full((3,3), 2.)\n",
    "b = np.ones_like(a)\n",
    "\n",
    "print(a)\n",
    "print(b)\n",
    "\n",
    "print(a*b)\n",
    "print(a+b)\n",
    "print(a-b)\n",
    "print(a/b)\n",
    "print(a**b)"
   ]
  },
  {
   "cell_type": "code",
   "execution_count": 39,
   "id": "882ac5b7",
   "metadata": {},
   "outputs": [
    {
     "name": "stdout",
     "output_type": "stream",
     "text": [
      "[[6. 6. 6.]\n",
      " [6. 6. 6.]\n",
      " [6. 6. 6.]]\n",
      "[[20. 20. 20.]\n",
      " [20. 20. 20.]\n",
      " [20. 20. 20.]]\n"
     ]
    }
   ],
   "source": [
    "print(a*3)\n",
    "print(10*a)\n"
   ]
  },
  {
   "cell_type": "code",
   "execution_count": 40,
   "id": "bb191d65",
   "metadata": {},
   "outputs": [
    {
     "name": "stdout",
     "output_type": "stream",
     "text": [
      "[[ True  True  True]\n",
      " [ True  True  True]\n",
      " [ True  True  True]]\n",
      "[[False False False]\n",
      " [False False False]\n",
      " [False False False]]\n",
      "[[False False False]\n",
      " [False False False]\n",
      " [False False False]]\n",
      "[[ True  True  True]\n",
      " [ True  True  True]\n",
      " [ True  True  True]]\n"
     ]
    }
   ],
   "source": [
    "print(a>b)\n",
    "print(a<b)\n",
    "print(a==b)\n",
    "print(a!=b)"
   ]
  },
  {
   "cell_type": "markdown",
   "id": "8b4669fd",
   "metadata": {},
   "source": [
    "## Arrays vs Listas"
   ]
  },
  {
   "cell_type": "code",
   "execution_count": 41,
   "id": "1938cf64",
   "metadata": {},
   "outputs": [
    {
     "name": "stdout",
     "output_type": "stream",
     "text": [
      "CPU times: user 21.3 ms, sys: 7.11 ms, total: 28.4 ms\n",
      "Wall time: 27.7 ms\n",
      "CPU times: user 765 ms, sys: 151 ms, total: 915 ms\n",
      "Wall time: 915 ms\n"
     ]
    }
   ],
   "source": [
    "a1=np.arange(1000000)\n",
    "l1=list(range(1000000))\n",
    "\n",
    "%time for _ in range(10): a2 = a1 * 2\n",
    "    \n",
    "%time for _ in range(10): l2 = [x * 2 for x in l1]"
   ]
  },
  {
   "cell_type": "markdown",
   "id": "10f6d0a9",
   "metadata": {},
   "source": [
    "## Operações Recorrentes"
   ]
  },
  {
   "cell_type": "markdown",
   "id": "b4ea25cb",
   "metadata": {},
   "source": [
    "### Concatenação"
   ]
  },
  {
   "cell_type": "code",
   "execution_count": 46,
   "id": "55c2482b",
   "metadata": {},
   "outputs": [
    {
     "name": "stdout",
     "output_type": "stream",
     "text": [
      "[[1 2 3]\n",
      " [4 5 6]]\n",
      "[[ 7  8  9]\n",
      " [10 11 12]]\n",
      "[[ 1  2  3]\n",
      " [ 4  5  6]\n",
      " [ 7  8  9]\n",
      " [10 11 12]]\n",
      "[[ 1  2  3  7  8  9]\n",
      " [ 4  5  6 10 11 12]]\n"
     ]
    }
   ],
   "source": [
    "a = np.arange(1,7).reshape(2,3)\n",
    "b = np.arange(7,13).reshape(2,3)\n",
    "\n",
    "print(a)\n",
    "print(b)\n",
    "\n",
    "c = np.concatenate([a,b])\n",
    "print(c)\n",
    "\n",
    "c = np.concatenate([a,b], axis=1)\n",
    "print(c)"
   ]
  },
  {
   "cell_type": "code",
   "execution_count": 50,
   "id": "14fc9fbc",
   "metadata": {},
   "outputs": [
    {
     "name": "stdout",
     "output_type": "stream",
     "text": [
      "[[[ 1  2  3]\n",
      "  [ 4  5  6]]\n",
      "\n",
      " [[ 7  8  9]\n",
      "  [10 11 12]]]\n",
      "[[[ 1  2  3]\n",
      "  [ 4  5  6]]\n",
      "\n",
      " [[ 7  8  9]\n",
      "  [10 11 12]]]\n",
      "[[ 1  2  3]\n",
      " [ 4  5  6]\n",
      " [ 7  8  9]\n",
      " [10 11 12]]\n",
      "[[ 1  2  3  7  8  9]\n",
      " [ 4  5  6 10 11 12]]\n"
     ]
    }
   ],
   "source": [
    "c = np.stack([a,b])\n",
    "print(c)\n",
    "\n",
    "c = np.stack([a,b])\n",
    "print(c)\n",
    "\n",
    "c = np.vstack([a,b])\n",
    "print(c)\n",
    "\n",
    "c = np.hstack([a,b])\n",
    "print(c)"
   ]
  },
  {
   "cell_type": "markdown",
   "id": "5555b884",
   "metadata": {},
   "source": [
    "### Separar"
   ]
  },
  {
   "cell_type": "code",
   "execution_count": 55,
   "id": "fdfe0870",
   "metadata": {},
   "outputs": [
    {
     "name": "stdout",
     "output_type": "stream",
     "text": [
      "[1 2 3 4 5 6]\n",
      "[[1 2 3]\n",
      " [4 5 6]]\n",
      "[[[7 7 7 7]\n",
      "  [7 7 7 7]\n",
      "  [7 7 7 7]]\n",
      "\n",
      " [[7 7 7 7]\n",
      "  [7 7 7 7]\n",
      "  [7 7 7 7]]]\n",
      "[array([1, 2]), array([3, 4]), array([5, 6])]\n",
      "[array([[1, 2, 3]]), array([[4, 5, 6]])]\n",
      "[array([[[7, 7, 7, 7],\n",
      "        [7, 7, 7, 7],\n",
      "        [7, 7, 7, 7]]]), array([[[7, 7, 7, 7],\n",
      "        [7, 7, 7, 7],\n",
      "        [7, 7, 7, 7]]])]\n"
     ]
    }
   ],
   "source": [
    "a = np.arange(1,7)\n",
    "b = np.arange(1,7).reshape(2,3)\n",
    "c = np.full((2,3,4), 7)\n",
    "print(a)\n",
    "print(b)\n",
    "print(c)\n",
    "\n",
    "\n",
    "\n",
    "print(np.split(a,3))\n",
    "print(np.split(b,2))\n",
    "print(np.split(c,2))"
   ]
  },
  {
   "cell_type": "code",
   "execution_count": 57,
   "id": "36929237",
   "metadata": {},
   "outputs": [
    {
     "name": "stdout",
     "output_type": "stream",
     "text": [
      "[array([[1],\n",
      "       [4]]), array([[2],\n",
      "       [5]]), array([[3],\n",
      "       [6]])]\n",
      "[array([[[7, 7, 7, 7]],\n",
      "\n",
      "       [[7, 7, 7, 7]]]), array([[[7, 7, 7, 7]],\n",
      "\n",
      "       [[7, 7, 7, 7]]]), array([[[7, 7, 7, 7]],\n",
      "\n",
      "       [[7, 7, 7, 7]]])]\n"
     ]
    }
   ],
   "source": [
    "print(np.hsplit(b,3))\n",
    "print(np.hsplit(c,3))"
   ]
  },
  {
   "cell_type": "markdown",
   "id": "034540c9",
   "metadata": {},
   "source": [
    "### Copiar"
   ]
  },
  {
   "cell_type": "code",
   "execution_count": 59,
   "id": "c953af98",
   "metadata": {},
   "outputs": [
    {
     "name": "stdout",
     "output_type": "stream",
     "text": [
      "[1 2 3 4 5 6]\n",
      "[[1 2 3]\n",
      " [4 5 6]]\n",
      "[[[7 7 7 7]\n",
      "  [7 7 7 7]\n",
      "  [7 7 7 7]]\n",
      "\n",
      " [[7 7 7 7]\n",
      "  [7 7 7 7]\n",
      "  [7 7 7 7]]]\n",
      "[1 2 3 4 5 6]\n",
      "[[1 2 3]\n",
      " [4 5 6]]\n",
      "[[[7 7 7 7]\n",
      "  [7 7 7 7]\n",
      "  [7 7 7 7]]\n",
      "\n",
      " [[7 7 7 7]\n",
      "  [7 7 7 7]\n",
      "  [7 7 7 7]]]\n"
     ]
    }
   ],
   "source": [
    "a = np.arange(1,7)\n",
    "b = np.arange(1,7).reshape(2,3)\n",
    "c = np.full((2,3,4), 7)\n",
    "print(a)\n",
    "print(b)\n",
    "print(c)\n",
    "\n",
    "d = np.copy(a)\n",
    "print(d)\n",
    "\n",
    "d = np.copy(b)\n",
    "print(d)\n",
    "\n",
    "d = np.copy(c)\n",
    "print(d)"
   ]
  },
  {
   "cell_type": "markdown",
   "id": "92de34dd",
   "metadata": {},
   "source": [
    "## Métodos Matemáticos e Estatisticas"
   ]
  },
  {
   "cell_type": "code",
   "execution_count": 62,
   "id": "98cc6962",
   "metadata": {},
   "outputs": [
    {
     "name": "stdout",
     "output_type": "stream",
     "text": [
      "[0 1 2 3 4 5 6 7 8 9]\n",
      "[10 11 12 13 14 15 16 17 18 19]\n",
      "[0.         1.         1.41421356 1.73205081 2.         2.23606798\n",
      " 2.44948974 2.64575131 2.82842712 3.        ]\n",
      "[1.00000000e+00 2.71828183e+00 7.38905610e+00 2.00855369e+01\n",
      " 5.45981500e+01 1.48413159e+02 4.03428793e+02 1.09663316e+03\n",
      " 2.98095799e+03 8.10308393e+03]\n",
      "[10 11 12 13 14 15 16 17 18 19]\n"
     ]
    }
   ],
   "source": [
    "a = np.arange(10)\n",
    "b = np.arange(10, 20)\n",
    "\n",
    "print(a)\n",
    "print(b)\n",
    "\n",
    "\n",
    "print(np.sqrt(a))\n",
    "print(np.exp(a))\n",
    "print(np.maximum(a, b))\n"
   ]
  },
  {
   "cell_type": "code",
   "execution_count": 71,
   "id": "c86434d1",
   "metadata": {},
   "outputs": [
    {
     "name": "stdout",
     "output_type": "stream",
     "text": [
      "2.8722813232690143\n",
      "14.5\n",
      "145\n",
      "145\n",
      "14.5\n",
      "[[0 1 2 3 4]\n",
      " [5 6 7 8 9]]\n",
      "[ 5  7  9 11 13]\n",
      "[10 35]\n"
     ]
    }
   ],
   "source": [
    "print(np.std(b))\n",
    "print(np.mean(b))\n",
    "print(np.sum(b))\n",
    "print(b.sum())\n",
    "print(b.mean())\n",
    "\n",
    "d = a.reshape(2,5)\n",
    "print(d)\n",
    "print(d.sum(axis=0))\n",
    "print(d.sum(axis=1))"
   ]
  },
  {
   "cell_type": "markdown",
   "id": "bb39736e",
   "metadata": {},
   "source": [
    "## Funções para Manipulação de Dados"
   ]
  },
  {
   "cell_type": "code",
   "execution_count": 73,
   "id": "84da80f5",
   "metadata": {},
   "outputs": [
    {
     "name": "stdout",
     "output_type": "stream",
     "text": [
      "['Bruna' 'Felipe' 'Guilherme' 'Rafaela']\n"
     ]
    }
   ],
   "source": [
    "nomes = np.array(['Rafaela', \"Bruna\", 'Felipe', 'Felipe', \"Guilherme\", \"Guilherme\"])\n",
    "\n",
    "print(np.unique(nomes))\n"
   ]
  },
  {
   "cell_type": "code",
   "execution_count": 82,
   "id": "b353cdfa",
   "metadata": {},
   "outputs": [
    {
     "name": "stdout",
     "output_type": "stream",
     "text": [
      "['Rafaela' 'Bruna' 'Felipe' 'Felipe' 'Guilherme' 'Guilherme']\n",
      "['Bruna', 'Felipe', 'Felipe', 'Guilherme', 'Guilherme', 'Rafaela']\n",
      "[-0.06529786  0.37708974  0.6843856   0.41608049 -1.93579014  0.78370446\n",
      " -0.35797804  1.57415373 -0.8497275  -0.29308059]\n",
      "[-1.93579014 -0.8497275  -0.35797804 -0.29308059 -0.06529786  0.37708974\n",
      "  0.41608049  0.6843856   0.78370446  1.57415373]\n"
     ]
    }
   ],
   "source": [
    "print(nomes)\n",
    "print(sorted(nomes))\n",
    "\n",
    "a = np.random.randn(10)\n",
    "print(a)\n",
    "a.sort()\n",
    "print(a)"
   ]
  },
  {
   "cell_type": "code",
   "execution_count": 87,
   "id": "918518dc",
   "metadata": {},
   "outputs": [
    {
     "name": "stdout",
     "output_type": "stream",
     "text": [
      "CPU times: user 1.37 s, sys: 23.5 ms, total: 1.4 s\n",
      "Wall time: 1.4 s\n",
      "CPU times: user 1.07 s, sys: 15.7 ms, total: 1.09 s\n",
      "Wall time: 1.09 s\n",
      "CPU times: user 3.59 s, sys: 15.1 ms, total: 3.6 s\n",
      "Wall time: 3.6 s\n"
     ]
    }
   ],
   "source": [
    "a = np.random.randn(10000000)\n",
    "\n",
    "%time ax=np.sort(a, kind='mergesort')\n",
    "\n",
    "%time ax=np.sort(a, kind='quicksort')\n",
    "\n",
    "\n",
    "%time ax=np.sort(a, kind='heapsort')"
   ]
  },
  {
   "cell_type": "code",
   "execution_count": 89,
   "id": "ec3bbf61",
   "metadata": {},
   "outputs": [
    {
     "name": "stdout",
     "output_type": "stream",
     "text": [
      "4998515\n"
     ]
    }
   ],
   "source": [
    "print((a > 0).sum())"
   ]
  },
  {
   "cell_type": "code",
   "execution_count": 91,
   "id": "434bbbf1",
   "metadata": {},
   "outputs": [
    {
     "name": "stdout",
     "output_type": "stream",
     "text": [
      "[-6.3444309  -6.36351082  0.         ...  0.81649528  0.\n",
      "  2.20949035]\n",
      "CPU times: user 4.95 s, sys: 184 ms, total: 5.13 s\n",
      "Wall time: 5.13 s\n",
      "[-6.3444309  -6.36351082  2.20066103 ...  0.81649528  0.78031668\n",
      "  2.20949035]\n",
      "CPU times: user 81.6 ms, sys: 15.8 ms, total: 97.4 ms\n",
      "Wall time: 96.7 ms\n"
     ]
    }
   ],
   "source": [
    "%time print(np.array([xv if c else c for c, xv, yv in zip(a<0.4, a*10, a)]))\n",
    "\n",
    "%time print(np.where(a<0.4, a*10, a))"
   ]
  },
  {
   "cell_type": "markdown",
   "id": "36b055aa",
   "metadata": {},
   "source": [
    "## Visualização de Dados Vetoriais"
   ]
  },
  {
   "cell_type": "code",
   "execution_count": 93,
   "id": "af9857ff",
   "metadata": {},
   "outputs": [
    {
     "data": {
      "text/plain": [
       "[<matplotlib.lines.Line2D at 0x7f0e7cb8b310>]"
      ]
     },
     "execution_count": 93,
     "metadata": {},
     "output_type": "execute_result"
    },
    {
     "data": {
      "image/png": "[encoded data removed]",
      "text/plain": [
       "<Figure size 432x288 with 1 Axes>"
      ]
     },
     "metadata": {
      "needs_background": "light"
     },
     "output_type": "display_data"
    }
   ],
   "source": [
    "import matplotlib.pyplot as plt\n",
    "\n",
    "a = np.arange(30)\n",
    "\n",
    "plt.plot(a)"
   ]
  },
  {
   "cell_type": "markdown",
   "id": "3d21b23d",
   "metadata": {},
   "source": [
    "## Geração de Números Pseudo Aleatórios\n"
   ]
  },
  {
   "cell_type": "code",
   "execution_count": 95,
   "id": "fd1f2999",
   "metadata": {},
   "outputs": [
    {
     "name": "stdout",
     "output_type": "stream",
     "text": [
      "[[ 0.16163464 -0.16755668  0.28019672  1.13801773]\n",
      " [ 0.16387766 -0.15658857  0.50143548 -0.572089  ]\n",
      " [-1.93281493 -0.49441607 -0.21809     0.95013105]\n",
      " [ 2.03461442 -0.51001219 -0.27866517 -1.10908956]]\n"
     ]
    }
   ],
   "source": [
    "amostra = np.random.normal(size=(4,4))\n",
    "print(amostra)"
   ]
  },
  {
   "cell_type": "code",
   "execution_count": 97,
   "id": "66a26bd5",
   "metadata": {},
   "outputs": [],
   "source": [
    "np.random.seed(123)"
   ]
  },
  {
   "cell_type": "code",
   "execution_count": 105,
   "id": "7bfe2f75",
   "metadata": {},
   "outputs": [
    {
     "name": "stdout",
     "output_type": "stream",
     "text": [
      "[-1.0856306   0.99734545  0.2829785  -1.50629471 -0.57860025  1.65143654\n",
      " -2.42667924 -0.42891263  1.26593626 -0.8667404 ]\n",
      "[ 0.05056171  0.49995133 -0.99590893  0.69359851 -0.41830152 -1.58457724\n",
      " -0.64770677  0.59857517  0.33225003 -1.14747663]\n"
     ]
    }
   ],
   "source": [
    "rs=np.random.RandomState(123)\n",
    "\n",
    "print(rs.randn(10))\n",
    "\n",
    "rs2=np.random.RandomState(4)\n",
    "\n",
    "print(rs2.randn(10))"
   ]
  }
 ],
 "metadata": {
  "kernelspec": {
   "display_name": "Python 3 (ipykernel)",
   "language": "python",
   "name": "python3"
  },
  "language_info": {
   "codemirror_mode": {
    "name": "ipython",
    "version": 3
   },
   "file_extension": ".py",
   "mimetype": "text/x-python",
   "name": "python",
   "nbconvert_exporter": "python",
   "pygments_lexer": "ipython3",
   "version": "3.10.4"
  }
 },
 "nbformat": 4,
 "nbformat_minor": 5
}
