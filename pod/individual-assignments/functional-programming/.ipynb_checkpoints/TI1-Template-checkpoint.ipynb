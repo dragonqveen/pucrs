{
 "cells": [
  {
   "cell_type": "markdown",
   "id": "578bf0e2",
   "metadata": {},
   "source": [
    "# [Prof. Dalvan Griebler](mailto:dalvan.griebler@pucrs.br)\n",
    "\n",
    "## Programação Orientada a Dados (POD) - Turma 10 (POD_98H04-06)\n",
    "\n",
    "**Atualizado**: 29/05/2022\n",
    "\n",
    "**Descrição**: Trabalho Individual: Programação Funcional\n",
    "\n",
    "**Copyright &copy;**: Este documento está sob a licensa da Criative Commons [BY-NC-ND 4.0](https://creativecommons.org/licenses/by-nc-nd/4.0/legalcode)"
   ]
  },
  {
   "cell_type": "markdown",
   "id": "1e9d313f",
   "metadata": {},
   "source": [
    "**_Atenção: Explicar como funcionam todas as função criadas através de comentário do Python (`#`). Você também será avaliado por esta explicação._**"
   ]
  },
  {
   "cell_type": "markdown",
   "id": "52f59dc7",
   "metadata": {},
   "source": [
    "### Trabalho realizado por: Daniele Paz Machado Gomes"
   ]
  },
  {
   "cell_type": "markdown",
   "id": "aa965839",
   "metadata": {},
   "source": []
  },
  {
   "cell_type": "markdown",
   "id": "63b3507e",
   "metadata": {},
   "source": [
    "## Parte-1: Dataset Brasileirão"
   ]
  },
  {
   "cell_type": "markdown",
   "id": "0640b01b",
   "metadata": {},
   "source": [
    "### Módulos autorizados"
   ]
  },
  {
   "cell_type": "code",
   "execution_count": 2,
   "id": "623b6512",
   "metadata": {},
   "outputs": [],
   "source": [
    "import csv\n",
    "from functools import reduce"
   ]
  },
  {
   "cell_type": "markdown",
   "id": "980263bd",
   "metadata": {},
   "source": [
    "### Função auxiliar `mostra_dados`"
   ]
  },
  {
   "cell_type": "code",
   "execution_count": 3,
   "id": "5a8e80a2",
   "metadata": {},
   "outputs": [],
   "source": [
    "def mostra_dados(titulo, nome_arq, f):\n",
    "    print(\"|___   \", titulo, \"  ___|\")\n",
    "    with open(nome_arq, \"r\", encoding='utf-8-sig') as arq:\n",
    "        dados=csv.DictReader(arq, delimiter=',')\n",
    "        fdados=f(dados)\n",
    "        try:\n",
    "            iterator=iter(fdados)\n",
    "        except TypeError:\n",
    "            print(fdados)\n",
    "        else:\n",
    "            for linha in fdados:\n",
    "                print(linha)"
   ]
  },
  {
   "cell_type": "markdown",
   "id": "000cb1c8",
   "metadata": {},
   "source": [
    "**1. Escreva uma função pura e reusável `get_equipe`, que encontre/retorne todos os jogos de uma equipe que é especificada como argumento da função.**\n",
    "\n",
    "_Dica: esta função relembra e usa os conceitos de Curry e Closures para implementar o reuso de código._\n",
    "\n",
    "**Para testar, é necessário usar nossa função auxiliar `mostra_dados`**\n",
    "```python\n",
    "mostra_dados(\"Teste-Grêmio\", 'brasi2000-2021.csv', get_equipe(\"Grêmio\"))\n",
    "mostra_dados(\"Teste-Flamengo\", 'brasi2000-2021.csv', get_equipe(\"Flamengo\"))\n",
    "```\n",
    "\n",
    "**Exemplo de Saída Esparada de 3 Registros (retorne todos os registros em seu código)**\n",
    "```bash\n",
    "|___    Teste-Grêmio   ___|\n",
    "{'ID': '12', 'Rodada': '2', 'Data': '2000-08-02', 'Horário': '21h40', 'Dia': 'Quarta-feira', 'Mandante': 'Flamengo', 'Visitante': 'Grêmio', 'Vencedor': 'Flamengo', 'Arena': 'Maracanã', 'Mandante Placar': '3', 'Visitante Placar': '0', 'Estado Mandante': 'RJ', 'Estado Visitante': 'RS', 'Estado Vencedor': 'RJ'}\n",
    "{'ID': '26', 'Rodada': '3', 'Data': '2000-08-06', 'Horário': '18h30', 'Dia': 'Domingo', 'Mandante': 'Grêmio', 'Visitante': 'Palmeiras', 'Vencedor': 'Palmeiras', 'Arena': 'Olímpico Monumental', 'Mandante Placar': '0', 'Visitante Placar': '1', 'Estado Mandante': 'RS', 'Estado Visitante': 'SP', 'Estado Vencedor': 'SP'}\n",
    "{'ID': '29', 'Rodada': '4', 'Data': '2000-08-09', 'Horário': '20h30', 'Dia': 'Quarta-feira', 'Mandante': 'Bahia', 'Visitante': 'Grêmio', 'Vencedor': '-', 'Arena': 'Fonte Nova', 'Mandante Placar': '1', 'Visitante Placar': '1', 'Estado Mandante': 'BA', 'Estado Visitante': 'RS', 'Estado Vencedor': '-'}\n",
    "\n",
    "|___    Teste-Flamengo   ___|\n",
    "{'ID': '5', 'Rodada': '1', 'Data': '2000-07-30', 'Horário': '18h30', 'Dia': 'Domingo', 'Mandante': 'Juventude', 'Visitante': 'Flamengo', 'Vencedor': '-', 'Arena': 'Alfredo Jaconi', 'Mandante Placar': '1', 'Visitante Placar': '1', 'Estado Mandante': 'RS', 'Estado Visitante': 'RJ', 'Estado Vencedor': '-'}\n",
    "{'ID': '12', 'Rodada': '2', 'Data': '2000-08-02', 'Horário': '21h40', 'Dia': 'Quarta-feira', 'Mandante': 'Flamengo', 'Visitante': 'Grêmio', 'Vencedor': 'Flamengo', 'Arena': 'Maracanã', 'Mandante Placar': '3', 'Visitante Placar': '0', 'Estado Mandante': 'RJ', 'Estado Visitante': 'RS', 'Estado Vencedor': 'RJ'}\n",
    "{'ID': '18', 'Rodada': '3', 'Data': '2000-08-05', 'Horário': '16h00', 'Dia': 'Sábado', 'Mandante': 'Athlético-PR', 'Visitante': 'Flamengo', 'Vencedor': '-', 'Arena': 'Joaquim Américo', 'Mandante Placar': '1', 'Visitante Placar': '1', 'Estado Mandante': 'PR', 'Estado Visitante': 'RJ', 'Estado Vencedor': '-'}\n",
    "```"
   ]
  },
  {
   "cell_type": "code",
   "execution_count": 32,
   "id": "545d8f43",
   "metadata": {},
   "outputs": [
    {
     "name": "stdout",
     "output_type": "stream",
     "text": [
      "|___    Teste-Grêmio   ___|\n",
      "<csv.DictReader object at 0x00000241D8762B60>\n",
      "None\n"
     ]
    }
   ],
   "source": [
    "def get_quipe(b):\n",
    "    print(b)\n",
    "    \n",
    "    def aux(a):\n",
    "        print(a)\n",
    "\n",
    "mostra_dados(\"Teste-Grêmio\", 'brasi2000-2021.csv', get_equipe(\"Grêmio\"))"
   ]
  },
  {
   "cell_type": "markdown",
   "id": "154de363",
   "metadata": {},
   "source": [
    "**2. Adicione um novo campo `ano` para cada dicionário (cada dicionário é um jogo do campeonato) lido via objeto `DictReader`.**\n",
    "\n",
    "_Obs: você pode criar quantas funções puras auxiliares forem necessárias para facilitar a sua vida._\n",
    "\n",
    "\n",
    "**Para testar, é necessário usar nossa função auxiliar `mostra_dados`**\n",
    "```python\n",
    "mostra_dados(\"add_ano\", \"brasi2000-2021.csv\", add_ano)\n",
    "```\n",
    "\n",
    "**Exemplo de Saída Esparada de 1 Registro (retorne todos os registros em seu código)**\n",
    "```bash\n",
    "|___    add_ano   ___|\n",
    "{'ID': '1', 'Rodada': '1', 'Data': '2000-07-29', 'Horário': '16h00', 'Dia': 'Sábado', 'Mandante': 'Fluminense', 'Visitante': 'Bahia', 'Vencedor': 'Fluminense', 'Arena': 'Maracanã', 'Mandante Placar': '2', 'Visitante Placar': '0', 'Estado Mandante': 'RJ', 'Estado Visitante': 'BA', 'Estado Vencedor': 'RJ', 'Ano': 2000}\n",
    "```"
   ]
  },
  {
   "cell_type": "code",
   "execution_count": null,
   "id": "2ecbbfe0",
   "metadata": {},
   "outputs": [],
   "source": []
  },
  {
   "cell_type": "markdown",
   "id": "a11c47d7",
   "metadata": {},
   "source": [
    "**3. Retorne uma sequência de tuplas em que temos o ano (de 2000 até 2021) e o número de gols que aconteceram naquele ano.**\n",
    "\n",
    "_Dica: Pode ser feito usando a funções utilitárias `filter` e `map` ou `filter` e `reduce`_\n",
    "\n",
    "_Obs: você pode criar quantas funções puras auxiliares forem necessárias para facilitar a sua vida._\n",
    "\n",
    "\n",
    "**Para testar, é necessário usar nossa função auxiliar `mostra_dados`**\n",
    "\n",
    "```python\n",
    "mostra_dados(\"contar_gols_por_ano\", \"brasi2000-2021.csv\", contar_gols_por_ano)\n",
    "```\n",
    "\n",
    "**Exemplo de Saída Esparada**\n",
    "```bash\n",
    "|___    contar_gols_por_ano   ___|\n",
    "(2000, 958)\n",
    "(2001, 1111)\n",
    "(2002, 1016)\n",
    "(2003, 1592)\n",
    "(2004, 1534)\n",
    "(2005, 1451)\n",
    "(2006, 1030)\n",
    "(2007, 1052)\n",
    "(2008, 1030)\n",
    "(2009, 1094)\n",
    "(2010, 978)\n",
    "(2011, 1017)\n",
    "(2012, 939)\n",
    "(2013, 936)\n",
    "(2014, 860)\n",
    "(2015, 897)\n",
    "(2016, 912)\n",
    "(2017, 923)\n",
    "(2018, 827)\n",
    "(2019, 876)\n",
    "(2020, 654)\n",
    "(2021, 343)\n",
    "```"
   ]
  },
  {
   "cell_type": "code",
   "execution_count": null,
   "id": "1159d3a4",
   "metadata": {},
   "outputs": [],
   "source": []
  },
  {
   "cell_type": "markdown",
   "id": "978004e9",
   "metadata": {},
   "source": [
    "## Parte-2: Listas Encadeadas"
   ]
  },
  {
   "cell_type": "markdown",
   "id": "abc9e58c",
   "metadata": {},
   "source": [
    "### Funções Auxiliares"
   ]
  },
  {
   "cell_type": "code",
   "execution_count": 3,
   "id": "2f9bcfd8",
   "metadata": {},
   "outputs": [],
   "source": [
    "def head(L):\n",
    "    return L[0]\n",
    "\n",
    "def tail(L):\n",
    "    return L[1]\n",
    "\n",
    "\n",
    "def l2ll(L):\n",
    "    if not L:\n",
    "        return None\n",
    "    else:\n",
    "        return (L[0], l2ll(L[1:]))\n",
    "    \n",
    "def ll2l(LL):\n",
    "    if not LL:\n",
    "        return []\n",
    "    else:\n",
    "        H = head(LL)\n",
    "        T = tail(LL)\n",
    "        return [H] + ll2l(T)"
   ]
  },
  {
   "cell_type": "markdown",
   "id": "134b3502",
   "metadata": {},
   "source": [
    "### Listas para testes"
   ]
  },
  {
   "cell_type": "code",
   "execution_count": 4,
   "id": "6115caf0",
   "metadata": {},
   "outputs": [],
   "source": [
    "LL=(1, (4, (7, (2, (3, (5, (6, None)))))))\n",
    "LLX=(1, (4, ('7', (2, ('3', (5, ('6', None)))))))"
   ]
  },
  {
   "cell_type": "markdown",
   "id": "03bfd2e2",
   "metadata": {},
   "source": [
    "**4. Implemente uma função pura `mapLL` de alta ordem, de forma que ela receba e aplique uma função `F` sob cada elemento de uma lista encadeada `LL` que é passada como parâmetro (`mapLL(LL,F)`), retornando uma nova lista encadeada (`LL'`). Depois, use `mapLL` para:**\n",
    "\n",
    "1. Calcular o fatorial de cada elemento de uma lista encadeada. Use a função `factFun` criada em aula.\n",
    "2. Converter em string cada elemento de uma lista encadeada.\n",
    "3. Incrementar +1 cada elemento de uma lista encadeada com uma função `lambda`.\n",
    "\n",
    "**Resultado Esperado:**\n",
    "```bash\n",
    "mapLL-factorial-LL: (1, (24, (5040, (2, (6, (120, (720, None)))))))\n",
    "mapLL-string-LL: ('1', ('4', ('7', ('2', ('3', ('5', ('6', None)))))))\n",
    "mapLL-incrementa-LL: (2, (5, (8, (3, (4, (6, (7, None)))))))\n",
    "```"
   ]
  },
  {
   "cell_type": "code",
   "execution_count": null,
   "id": "46f85ed5",
   "metadata": {},
   "outputs": [],
   "source": []
  },
  {
   "cell_type": "markdown",
   "id": "b7045ab4",
   "metadata": {},
   "source": [
    "**5. Implemente uma função pura chamada `filterLL` de alta ordem, que recebe uma lista encadeada `LL` e uma função `F`, de modo que produza uma nova lista com cada elemento de `LL` que seja verdade para `F`. Depois use ela para:**\n",
    "\n",
    "1. Filtrar os elementos ímpares de uma lista encadeada. Usar uma função `lambda`.\n",
    "2. Filtrar os elementos que são do tipo string de uma lista encadeada. Usar uma função `lambda`.\n",
    "3. Filtrar os elementos de uma lista encadeada que são primos. Crie uma função usando o paradigma funcional (recursiva e pura) chamada `primo`, que retorne verdadeiro se o número passado como argumento for Primo. Assim, você pode usá-la na chamada da função `filterLL`.\n",
    "\n",
    "**Resultado Esperado:**\n",
    "```bash\n",
    "filterLL-Ímpares-LL (1, (7, (3, (5, None))))\n",
    "filterLL-Strings-LLX ('7', ('3', ('6', None)))\n",
    "filterLL-Primos-LL (7, (2, (3, (5, None))))\n",
    "```"
   ]
  },
  {
   "cell_type": "code",
   "execution_count": null,
   "id": "613e1b48",
   "metadata": {},
   "outputs": [],
   "source": []
  }
 ],
 "metadata": {
  "kernelspec": {
   "display_name": "Python 3 (ipykernel)",
   "language": "python",
   "name": "python3"
  },
  "language_info": {
   "codemirror_mode": {
    "name": "ipython",
    "version": 3
   },
   "file_extension": ".py",
   "mimetype": "text/x-python",
   "name": "python",
   "nbconvert_exporter": "python",
   "pygments_lexer": "ipython3",
   "version": "3.10.4"
  }
 },
 "nbformat": 4,
 "nbformat_minor": 5
}
